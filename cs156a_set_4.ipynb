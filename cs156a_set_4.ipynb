{
  "nbformat": 4,
  "nbformat_minor": 0,
  "metadata": {
    "colab": {
      "provenance": []
    },
    "kernelspec": {
      "name": "python3",
      "display_name": "Python 3"
    },
    "language_info": {
      "name": "python"
    }
  },
  "cells": [
    {
      "cell_type": "markdown",
      "source": [
        "PROBLEM 1"
      ],
      "metadata": {
        "id": "YU3fUkhCZ3fe"
      }
    },
    {
      "cell_type": "code",
      "execution_count": null,
      "metadata": {
        "colab": {
          "base_uri": "https://localhost:8080/"
        },
        "id": "4ghz_hm2uBmh",
        "outputId": "6a4ea38e-1f23-4f20-c678-47234508b4a9"
      },
      "outputs": [
        {
          "output_type": "stream",
          "name": "stdout",
          "text": [
            "N = 452957\n"
          ]
        }
      ],
      "source": [
        "import math\n",
        "\n",
        "epsilon = 0.05 #error defined at most 0.05\n",
        "delta = 0.05 #95% confidence b/c confidence is 1-delta\n",
        "d_vc = 10\n",
        "\n",
        "def sample_size(N):\n",
        "  growth_function = (2 * N) ** d_vc #define the growth function\n",
        "  #VC inequality formula for error in terms of delta\n",
        "  return math.sqrt(8 / N * math.log(4 * growth_function / delta))\n",
        "\n",
        "\n",
        "def main():\n",
        "  N = 1\n",
        "  while True:\n",
        "    curr = sample_size(N)\n",
        "    if curr <= epsilon: #if error at most 0.05 then break\n",
        "      print(f'N = {N}') #print N that resulted in error of at most 0.05 at 95% confidence\n",
        "      break\n",
        "    N += 1\n",
        "\n",
        "if __name__ == \"__main__\":\n",
        "    main()"
      ]
    },
    {
      "cell_type": "markdown",
      "source": [
        "PROBLEM 2"
      ],
      "metadata": {
        "id": "1dNpDpAPZ7oC"
      }
    },
    {
      "cell_type": "markdown",
      "source": [
        "PROBLEM 3"
      ],
      "metadata": {
        "id": "vzBYeLyhZ9zK"
      }
    },
    {
      "cell_type": "code",
      "source": [
        "def main():\n",
        "  N = 5\n",
        "  print(f\"Results for N = {N}:\")\n",
        "  print(f\"VC Bound [a]: {VC_bound(N)}\")\n",
        "  print(f\"Rademacher Bound [b]: {Rademacher_bound(N)}\")\n",
        "  print(f\"Parrondo Bound [c]: {Paraondo_Broek(N)}\")\n",
        "  print(f\"Devroye Bound [d]: {Devroye(N)}\")\n",
        "\n",
        "if __name__ == \"__main__\":\n",
        "    main()"
      ],
      "metadata": {
        "colab": {
          "base_uri": "https://localhost:8080/"
        },
        "id": "ZwLg3WrC7GWT",
        "outputId": "adf55550-ca47-4802-df19-da4db494f376"
      },
      "execution_count": null,
      "outputs": [
        {
          "output_type": "stream",
          "name": "stdout",
          "text": [
            "Results for N = 5:\n",
            "VC Bound [a]: 13.828161484991483\n",
            "Rademacher Bound [b]: 2.7214987735721996\n",
            "Parrondo Bound [c]: 4.901361981989992\n",
            "Devroye Bound [d]: 16.936167644169846\n"
          ]
        }
      ]
    },
    {
      "cell_type": "markdown",
      "source": [
        "PROBLEM 4"
      ],
      "metadata": {
        "id": "fvHqWKamZ_tV"
      }
    },
    {
      "cell_type": "code",
      "source": [
        "import numpy as np\n",
        "\n",
        "runs = 10000\n",
        "\n",
        "def target_function(x):\n",
        "  return np.sin(np.pi * x)\n",
        "\n",
        "def hypothesis(a, x):\n",
        "  return a * x\n",
        "\n",
        "def slope(x1, y1, x2, y2):\n",
        "  if x1 == x2:\n",
        "    return 0\n",
        "  return (y2 - y1) / (x2 - x1)\n",
        "\n",
        "def main():\n",
        "  slopes = []\n",
        "  for _ in range(runs):\n",
        "    x1, x2 = np.random.uniform(1, -1, 2)\n",
        "    y1 = target_function(x1)\n",
        "    y2 = target_function(x2)\n",
        "\n",
        "    a = slope(x1, y1, x2, y2)\n",
        "    slopes.append(a)\n",
        "\n",
        "  res = np.mean(slopes)\n",
        "  print(res)\n",
        "\n",
        "if __name__ == \"__main__\":\n",
        "    main()"
      ],
      "metadata": {
        "colab": {
          "base_uri": "https://localhost:8080/"
        },
        "id": "NVUbUk6_Z15R",
        "outputId": "f0c3bb50-64f2-419d-cf00-e034bbf819a4"
      },
      "execution_count": null,
      "outputs": [
        {
          "output_type": "stream",
          "name": "stdout",
          "text": [
            "0.7668278578900919\n"
          ]
        }
      ]
    },
    {
      "cell_type": "code",
      "source": [
        "import numpy as np\n",
        "\n",
        "#define the target function\n",
        "def f(x):\n",
        "    return np.sin(np.pi * x)\n",
        "\n",
        "#perform least squares linear regression to find the slope a\n",
        "def compute_slope(x_train, y_train):\n",
        "    X_train = np.vstack([x_train]).T\n",
        "    a = np.linalg.inv(X_train.T @ X_train) @ (X_train.T @ y_train)\n",
        "    return a[0]\n",
        "\n",
        "\n",
        "n_simulations = 10000 #simulate on 10000 runs\n",
        "x_min, x_max = -1, 1\n",
        "\n",
        "slope_sum = 0\n",
        "\n",
        "# Perform the simulation\n",
        "for _ in range(n_simulations):\n",
        "    x_train = np.random.uniform(x_min, x_max, 2) #pick random 2 points\n",
        "\n",
        "    y_train = f(x_train)\n",
        "\n",
        "    slope = compute_slope(x_train, y_train) #find slope thru points\n",
        "\n",
        "    slope_sum += slope\n",
        "\n",
        "average_slope = slope_sum / n_simulations\n",
        "\n",
        "print(f\"Expected a: {average_slope:.2f}\")"
      ],
      "metadata": {
        "colab": {
          "base_uri": "https://localhost:8080/"
        },
        "id": "lvdxf2kL3ut2",
        "outputId": "6fad63ab-6d12-4861-ca1a-11a01c794783"
      },
      "execution_count": null,
      "outputs": [
        {
          "output_type": "stream",
          "name": "stdout",
          "text": [
            "Expected a: 1.43\n"
          ]
        }
      ]
    },
    {
      "cell_type": "markdown",
      "source": [
        "PROBLEM 5"
      ],
      "metadata": {
        "id": "NqCDi8nFcQl0"
      }
    },
    {
      "cell_type": "code",
      "source": [
        "import numpy as np\n",
        "\n",
        "#define target function\n",
        "def f(x):\n",
        "    return np.sin(np.pi * x)\n",
        "\n",
        "def compute_bias(a):\n",
        "    x_values = np.linspace(-1, 1, 10000) #pick 10000 points to evaluate bias\n",
        "\n",
        "    g_x = a * x_values\n",
        "    f_x = f(x_values)\n",
        "\n",
        "    bias = np.mean((g_x - f_x) ** 2) #calculate avg bias\n",
        "\n",
        "    return bias\n",
        "\n",
        "slope = 1.42 #slope from prob 4\n",
        "bias = compute_bias(slope)\n",
        "print(f\"Bias: {bias:.2f}\")"
      ],
      "metadata": {
        "colab": {
          "base_uri": "https://localhost:8080/"
        },
        "id": "WRS8h4RwcRgr",
        "outputId": "9bbb12ca-7015-4bc6-e11b-5c286443af99"
      },
      "execution_count": null,
      "outputs": [
        {
          "output_type": "stream",
          "name": "stdout",
          "text": [
            "Bias: 0.27\n"
          ]
        }
      ]
    },
    {
      "cell_type": "markdown",
      "source": [
        "PROBLEM 6"
      ],
      "metadata": {
        "id": "D8zE3dyXdg-G"
      }
    },
    {
      "cell_type": "code",
      "source": [
        "import numpy as np\n",
        "\n",
        "def f(x):\n",
        "    return np.sin(np.pi * x)\n",
        "\n",
        "# Perform least squares linear regression to find the slope a\n",
        "def compute_slope(x_train, y_train):\n",
        "    X_train = np.vstack([x_train]).T\n",
        "    a = np.linalg.inv(X_train.T @ X_train) @ (X_train.T @ y_train)\n",
        "    return a[0]\n",
        "\n",
        "def simulate_variance(num_datasets, x_values, expected_slope):\n",
        "    slopes = []\n",
        "\n",
        "    for _ in range(num_datasets):\n",
        "        #randomly select 2 points from uniform distribution in [-1, 1]\n",
        "        x_train = np.random.uniform(-1, 1, 2)\n",
        "        y_train = f(x_train)\n",
        "\n",
        "        a = compute_slope(x_train, y_train)\n",
        "        slopes.append(a)\n",
        "\n",
        "    # Compute the variance\n",
        "    variances = []\n",
        "    for x in x_values:\n",
        "        h_x_values = [a * x for a in slopes]\n",
        "        expected_h_x = expected_slope * x\n",
        "        variance_x = np.mean([(h_x - expected_h_x) ** 2 for h_x in h_x_values])\n",
        "        variances.append(variance_x)\n",
        "\n",
        "    return np.mean(variances)\n",
        "\n",
        "# Parameters\n",
        "num_datasets = 10000\n",
        "x_values = np.linspace(-1, 1, 1000)  # Points to evaluate variance\n",
        "expected_slope = 1.42\n",
        "\n",
        "variance = simulate_variance(num_datasets, x_values, expected_slope)\n",
        "\n",
        "print(f\"Variance: {variance:.2f}\")\n"
      ],
      "metadata": {
        "colab": {
          "base_uri": "https://localhost:8080/"
        },
        "id": "1sohT7LP7mg6",
        "outputId": "35ae2792-5263-4f43-8b29-0ebd317b2ce7"
      },
      "execution_count": null,
      "outputs": [
        {
          "output_type": "stream",
          "name": "stdout",
          "text": [
            "Variance: 0.24\n"
          ]
        }
      ]
    },
    {
      "cell_type": "code",
      "source": [
        "from scipy.integrate import quad\n",
        "\n",
        "expected_slope = 0.79 #from problem 4\n",
        "num_hypotheses = 10000\n",
        "\n",
        "def expected_hypothesis(x):\n",
        "  return expected_slope * x\n",
        "\n",
        "def target_function(x):\n",
        "  return np.sin(np.pi * x)\n",
        "\n",
        "def slope(x1, y1, x2, y2):\n",
        "  if x1 == x2:\n",
        "    return 0\n",
        "  return (y2 - y1) / (x2 - x1)\n",
        "\n",
        "def generate_hypothesis():\n",
        "  x1, x2 = np.random.uniform(1, -1, 2)\n",
        "  y1 = target_function(x1)\n",
        "  y2 = target_function(x2)\n",
        "\n",
        "  a = slope(x1, y1, x2, y2)\n",
        "\n",
        "  return lambda x: a * x\n",
        "\n",
        "def squared_diff(hypothesis, x):\n",
        "  return (expected_hypothesis(x) - hypothesis(x)) ** 2\n",
        "\n",
        "def main():\n",
        "  squared_diffs = []\n",
        "  for _ in range(num_hypotheses):\n",
        "    hypothesis = generate_hypothesis()\n",
        "    variance, _ = quad(lambda x: squared_diff(hypothesis, x), -1, 1)\n",
        "    #print(variance)\n",
        "    squared_diffs.append(variance)\n",
        "\n",
        "  avg_variance = np.mean(squared_diffs)\n",
        "  print(avg_variance)\n",
        "\n",
        "if __name__ == \"__main__\":\n",
        "    main()"
      ],
      "metadata": {
        "colab": {
          "base_uri": "https://localhost:8080/"
        },
        "id": "IlssDVhedihM",
        "outputId": "4fa2c9fa-2569-4bb5-d3ca-17292d3d6241"
      },
      "execution_count": null,
      "outputs": [
        {
          "output_type": "stream",
          "name": "stdout",
          "text": [
            "1.5177988838460412\n"
          ]
        }
      ]
    },
    {
      "cell_type": "markdown",
      "source": [
        "PROBLEM 7"
      ],
      "metadata": {
        "id": "_55L1Ac1h-GT"
      }
    },
    {
      "cell_type": "code",
      "source": [
        "import numpy as np\n",
        "import matplotlib.pyplot as plt\n",
        "from sklearn.linear_model import LinearRegression\n",
        "from sklearn.preprocessing import PolynomialFeatures\n",
        "\n",
        "# Target function\n",
        "def target_function(x):\n",
        "    return np.sin(np.pi * x)\n",
        "\n",
        "# Generate the dataset\n",
        "np.random.seed(42)\n",
        "num_samples = 100\n",
        "x_train = np.random.uniform(-1, 1, size=num_samples).reshape(-1, 1)\n",
        "y_train = target_function(x_train)\n",
        "\n",
        "# Function to calculate mean squared error\n",
        "def mse(y_true, y_pred):\n",
        "    return np.mean((y_true - y_pred) ** 2)\n",
        "\n",
        "# Function to calculate bias and variance\n",
        "def bias_variance_analysis(hypothesis_model, num_experiments=100, num_samples=10):\n",
        "    # Generate test data\n",
        "    x_test = np.linspace(-1, 1, 100).reshape(-1, 1)\n",
        "    y_test = target_function(x_test)\n",
        "\n",
        "    predictions = np.zeros((num_experiments, len(x_test)))\n",
        "\n",
        "    for i in range(num_experiments):\n",
        "        x_train = np.random.uniform(-1, 1, size=num_samples).reshape(-1, 1)\n",
        "        y_train = target_function(x_train)\n",
        "\n",
        "        # Fit the model\n",
        "        y_pred = hypothesis_model(x_train, y_train, x_test)\n",
        "        predictions[i] = y_pred.flatten()\n",
        "\n",
        "    avg_predictions = np.mean(predictions, axis=0)\n",
        "\n",
        "    # Calculate bias\n",
        "    bias = mse(y_test, avg_predictions)\n",
        "\n",
        "    # Calculate variance\n",
        "    variance = np.mean(np.var(predictions, axis=0))\n",
        "\n",
        "    return bias, variance\n",
        "\n",
        "# Hypothesis [a]: h(x) = b (constant model)\n",
        "def constant_model(x_train, y_train, x_test):\n",
        "    b = np.mean(y_train)\n",
        "    return np.full(x_test.shape, b)\n",
        "\n",
        "# Hypothesis [b]: h(x) = ax^3 (cubic model)\n",
        "def cubic_model(x_train, y_train, x_test):\n",
        "    poly = PolynomialFeatures(degree=3)\n",
        "    X_poly_train = poly.fit_transform(x_train)\n",
        "    X_poly_test = poly.transform(x_test)\n",
        "    model = LinearRegression().fit(X_poly_train, y_train)\n",
        "    return model.predict(X_poly_test)\n",
        "\n",
        "# Hypothesis [c]: h(x) = ax + b (linear model)\n",
        "def linear_model(x_train, y_train, x_test):\n",
        "    model = LinearRegression().fit(x_train, y_train)\n",
        "    return model.predict(x_test)\n",
        "\n",
        "# Hypothesis [d]: h(x) = ax^2 (quadratic model without intercept)\n",
        "def quadratic_model(x_train, y_train, x_test):\n",
        "    poly = PolynomialFeatures(degree=2)\n",
        "    X_poly_train = poly.fit_transform(x_train)\n",
        "    X_poly_test = poly.transform(x_test)\n",
        "    model = LinearRegression().fit(X_poly_train, y_train)\n",
        "    return model.predict(X_poly_test)\n",
        "\n",
        "# Hypothesis [e]: h(x) = ax^2 + b (quadratic model with intercept)\n",
        "def quadratic_model_with_intercept(x_train, y_train, x_test):\n",
        "    return quadratic_model(x_train, y_train, x_test)\n",
        "\n",
        "# Perform bias and variance analysis for each model\n",
        "models = {\n",
        "    'Constant Model': constant_model,\n",
        "    'Cubic Model': cubic_model,\n",
        "    'Linear Model': linear_model,\n",
        "    'Quadratic Model': quadratic_model,\n",
        "    'Quadratic Model with Intercept': quadratic_model_with_intercept\n",
        "}\n",
        "\n",
        "\n",
        "for name, model in models.items():\n",
        "    bias, variance = bias_variance_analysis(model)\n",
        "    out_of_sample_error = bias + variance\n",
        "    print(f'{name}: Bias = {bias:.2f}, Variance = {variance:.2f}, Out-of-Sample Error = {out_of_sample_error:.2f}')\n"
      ],
      "metadata": {
        "colab": {
          "base_uri": "https://localhost:8080/"
        },
        "id": "isMCG5sBh_Ti",
        "outputId": "99e8464d-0a33-4a96-c854-86e70eff79b7"
      },
      "execution_count": null,
      "outputs": [
        {
          "output_type": "stream",
          "name": "stdout",
          "text": [
            "Constant Model: Bias = 0.50, Variance = 0.04, Out-of-Sample Error = 0.54\n",
            "Cubic Model: Bias = 0.99, Variance = 0.01, Out-of-Sample Error = 1.00\n",
            "Linear Model: Bias = 0.82, Variance = 0.05, Out-of-Sample Error = 0.87\n",
            "Quadratic Model: Bias = 1.04, Variance = 0.23, Out-of-Sample Error = 1.27\n",
            "Quadratic Model with Intercept: Bias = 1.06, Variance = 0.30, Out-of-Sample Error = 1.36\n"
          ]
        }
      ]
    },
    {
      "cell_type": "code",
      "source": [
        "import numpy as np\n",
        "import matplotlib.pyplot as plt\n",
        "from sklearn.linear_model import LinearRegression\n",
        "from sklearn.preprocessing import PolynomialFeatures\n",
        "from sklearn.metrics import mean_squared_error\n",
        "\n",
        "# True function: f(x) = sin(pi * x)\n",
        "def true_function(x):\n",
        "    return np.sin(np.pi * x)\n",
        "\n",
        "# Generate training data (N=2)\n",
        "np.random.seed(42)\n",
        "num_samples = 1000\n",
        "X_train = np.random.uniform(-1, 1, size=(num_samples, 1))\n",
        "y_train = true_function(X_train)\n",
        "\n",
        "# Testing points for evaluating bias and variance\n",
        "X_test = np.linspace(-1, 1, 100).reshape(-1, 1)\n",
        "y_test = true_function(X_test)\n",
        "\n",
        "# Function to fit models and compute predictions\n",
        "def fit_and_predict(degree, X_train, y_train, X_test):\n",
        "    poly = PolynomialFeatures(degree)\n",
        "    X_train_poly = poly.fit_transform(X_train)\n",
        "    X_test_poly = poly.transform(X_test)\n",
        "\n",
        "    model = LinearRegression()\n",
        "    model.fit(X_train_poly, y_train)\n",
        "    y_pred = model.predict(X_test_poly)\n",
        "    return y_pred\n",
        "\n",
        "# Different hypotheses\n",
        "degrees = {\n",
        "    'constant': 0,\n",
        "    'linear': 1,\n",
        "    'quadratic': 2,\n",
        "    'cubic': 3,\n",
        "}\n",
        "\n",
        "# Dictionary to store bias^2, variance, and error for each hypothesis\n",
        "results = {}\n",
        "\n",
        "# Calculate predictions, bias, variance, and total MSE for each hypothesis\n",
        "for name, degree in degrees.items():\n",
        "    predictions = []\n",
        "    for i in range(100):  # Run multiple experiments for variance estimation\n",
        "        X_train_sample = np.random.uniform(-1, 1, size=(2, 1))\n",
        "        y_train_sample = true_function(X_train_sample)\n",
        "        y_pred = fit_and_predict(degree, X_train_sample, y_train_sample, X_test)\n",
        "        predictions.append(y_pred)\n",
        "\n",
        "    predictions = np.array(predictions)\n",
        "\n",
        "    # Calculate bias^2: (average prediction - true value)^2\n",
        "    avg_prediction = np.mean(predictions, axis=0)\n",
        "    bias_sq = np.mean((avg_prediction - y_test) ** 2)\n",
        "\n",
        "    # Calculate variance: average of (prediction - average prediction)^2\n",
        "    variance = np.mean(np.var(predictions, axis=0))\n",
        "\n",
        "    # Calculate total MSE (bias^2 + variance)\n",
        "    mse = bias_sq + variance\n",
        "\n",
        "    results[name] = {\n",
        "        'bias^2': bias_sq,\n",
        "        'variance': variance,\n",
        "        'MSE': mse\n",
        "    }\n",
        "\n",
        "# Print results\n",
        "for name, res in results.items():\n",
        "    print(f\"{name.capitalize()} model: bias^2 = {res['bias^2']:.4f}, variance = {res['variance']:.4f}, MSE = {res['MSE']:.4f}\")\n",
        "\n",
        "# Plot predictions of the different hypotheses against the true function\n",
        "plt.figure(figsize=(10, 6))\n",
        "plt.plot(X_test, y_test, label=\"True function\", color='black', linewidth=2)\n",
        "\n",
        "for name, degree in degrees.items():\n",
        "    avg_prediction = fit_and_predict(degree, X_train, y_train, X_test)\n",
        "    plt.plot(X_test, avg_prediction, label=f\"{name.capitalize()} model\")\n",
        "\n",
        "plt.legend()\n",
        "plt.xlabel(\"x\")\n",
        "plt.ylabel(\"y\")\n",
        "plt.title(\"Hypothesis comparison\")\n",
        "plt.show()\n"
      ],
      "metadata": {
        "colab": {
          "base_uri": "https://localhost:8080/",
          "height": 633
        },
        "id": "_m2zZQ5G889a",
        "outputId": "284a1859-1a13-4778-b959-27a855ea6238"
      },
      "execution_count": null,
      "outputs": [
        {
          "output_type": "stream",
          "name": "stdout",
          "text": [
            "Constant model: bias^2 = 0.5035, variance = 0.2344, MSE = 0.7379\n",
            "Linear model: bias^2 = 0.2479, variance = 1.6231, MSE = 1.8710\n",
            "Quadratic model: bias^2 = 0.2045, variance = 1.2750, MSE = 1.4794\n",
            "Cubic model: bias^2 = 0.2237, variance = 0.8588, MSE = 1.0826\n"
          ]
        },
        {
          "output_type": "display_data",
          "data": {
            "text/plain": [
              "<Figure size 1000x600 with 1 Axes>"
            ],
            "image/png": "[encoded data removed]"
          },
          "metadata": {}
        }
      ]
    }
  ]
}