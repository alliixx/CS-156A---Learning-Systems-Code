{
  "nbformat": 4,
  "nbformat_minor": 0,
  "metadata": {
    "colab": {
      "provenance": []
    },
    "kernelspec": {
      "name": "python3",
      "display_name": "Python 3"
    },
    "language_info": {
      "name": "python"
    }
  },
  "cells": [
    {
      "cell_type": "code",
      "execution_count": null,
      "metadata": {
        "colab": {
          "base_uri": "https://localhost:8080/"
        },
        "id": "5njkz4JnLZED",
        "outputId": "752e3212-ab60-40c5-a75b-788bfa4fd6e2"
      },
      "outputs": [
        {
          "output_type": "stream",
          "name": "stdout",
          "text": [
            "In-sample error: 0.02857142857142857\n",
            "Out-of-sample error: 0.084\n"
          ]
        }
      ],
      "source": [
        "import numpy as np\n",
        "\n",
        "def nonlinear_transform(x1, x2): #function to perform the nonlinear transform\n",
        "  return np.array([1, x1, x2, x1**2, x2**2, x1 * x2, abs(x1 - x2), abs(x1 + x2)])\n",
        "\n",
        "def parse_data(filename): #function to parse the data for each file\n",
        "  data = []\n",
        "  labels = []\n",
        "  with open(filename, 'r') as file: #open the file\n",
        "    for line in file: #for each line of the file get the data x1, x2, y\n",
        "      x1, x2, y = map(float, line.strip().split())\n",
        "      transformed_x = nonlinear_transform(x1, x2) #transform the data\n",
        "      data.append(transformed_x) #append the transformed data to data\n",
        "      labels.append(y) #get the labels\n",
        "  return np.array(data), np.array(labels)\n",
        "\n",
        "train_data, train_labels = parse_data(\"training.txt\") #parse training data from file\n",
        "test_data, test_labels = parse_data(\"testing.txt\") #parse testing data from file\n",
        "\n",
        "X = train_data\n",
        "y = train_labels\n",
        "w = np.linalg.pinv(X) @ y\n",
        "\n",
        "def classify(X, w): #classify points by label\n",
        "  predictions = np.sign(X @ w)\n",
        "  return predictions\n",
        "\n",
        "def misclassified(X, y, w): #find the avg number of misclassified points\n",
        "  predictions = classify(X, w)\n",
        "  error = np.mean(predictions != y)\n",
        "  return error\n",
        "\n",
        "Ein = misclassified(train_data, train_labels, w) #calculate E_in\n",
        "Eout = misclassified(test_data, test_labels, w) #calculate E_out\n",
        "\n",
        "print(f\"In-sample error: {Ein}\")\n",
        "print(f\"Out-of-sample error: {Eout}\")"
      ]
    },
    {
      "cell_type": "code",
      "source": [
        "def linear_regression_with_decay(X, y, lambda_val): #do linear regression with the decay of lambda\n",
        "  XTX = X.T @ X\n",
        "  lambda_identity = lambda_val * np.identity(X.shape[1])\n",
        "  w = np.linalg.inv(XTX + lambda_identity) @ X.T @ y\n",
        "  return w\n",
        "\n",
        "X_train, y_train = parse_data(\"training.txt\") #reparse each file\n",
        "X_test, y_test = parse_data(\"testing.txt\")\n",
        "\n",
        "lambda_val = 10**-3 #set the lambda value\n",
        "\n",
        "w = linear_regression_with_decay(X_train, y_train, lambda_val) #get the weights with decay\n",
        "\n",
        "in_sample_error = misclassified(X_train, y_train, w) #calculate in sample error\n",
        "out_of_sample_error = misclassified(X_test, y_test, w) #calculate out of sample error\n",
        "\n",
        "print(f'In-sample error: {in_sample_error}')\n",
        "print(f'Out-of-sample error: {out_of_sample_error}')"
      ],
      "metadata": {
        "colab": {
          "base_uri": "https://localhost:8080/"
        },
        "id": "xd0VWKwZSnJf",
        "outputId": "e1a0d721-c7c0-43ba-c5a6-c4cab529cecc"
      },
      "execution_count": null,
      "outputs": [
        {
          "output_type": "stream",
          "name": "stdout",
          "text": [
            "In-sample error: 0.02857142857142857\n",
            "Out-of-sample error: 0.08\n"
          ]
        }
      ]
    },
    {
      "cell_type": "code",
      "source": [
        "lambda_val = 10**3 ### set lambda given k = 3\n",
        "\n",
        "w = linear_regression_with_decay(X_train, y_train, lambda_val) #find weights with decay\n",
        "\n",
        "in_sample_error = misclassified(X_train, y_train, w) #calculate in sample error\n",
        "out_of_sample_error = misclassified(X_test, y_test, w) #calculate out of sample error\n",
        "\n",
        "print(f'In-sample error: {in_sample_error}')\n",
        "print(f'Out-of-sample error: {out_of_sample_error}')"
      ],
      "metadata": {
        "colab": {
          "base_uri": "https://localhost:8080/"
        },
        "id": "C4W9vNEITYHA",
        "outputId": "862a1d7b-6fff-4f5f-cca3-642a306bd3f0"
      },
      "execution_count": null,
      "outputs": [
        {
          "output_type": "stream",
          "name": "stdout",
          "text": [
            "In-sample error: 0.37142857142857144\n",
            "Out-of-sample error: 0.436\n"
          ]
        }
      ]
    },
    {
      "cell_type": "code",
      "source": [
        "lambdas = [10**2, 10**1, 10**0, 10**-1, 10**-2] #testing each k value from the options\n",
        "\n",
        "for lambda_val in lambdas: # for each k-value calculate the errors\n",
        "  w = linear_regression_with_decay(X_train, y_train, lambda_val)\n",
        "\n",
        "  in_sample_error = misclassified(X_train, y_train, w)\n",
        "  out_of_sample_error = misclassified(X_test, y_test, w)\n",
        "  print(f'lambda = {lambda_val}')\n",
        "  print(f'In-sample error: {in_sample_error}')\n",
        "  print(f'Out-of-sample error: {out_of_sample_error}')"
      ],
      "metadata": {
        "colab": {
          "base_uri": "https://localhost:8080/"
        },
        "id": "uhofEYg3TlOP",
        "outputId": "fa7a597d-9877-4cd2-d3a7-c624cba4e86b"
      },
      "execution_count": null,
      "outputs": [
        {
          "output_type": "stream",
          "name": "stdout",
          "text": [
            "lambda = 100\n",
            "In-sample error: 0.2\n",
            "Out-of-sample error: 0.228\n",
            "lambda = 10\n",
            "In-sample error: 0.05714285714285714\n",
            "Out-of-sample error: 0.124\n",
            "lambda = 1\n",
            "In-sample error: 0.0\n",
            "Out-of-sample error: 0.092\n",
            "lambda = 0.1\n",
            "In-sample error: 0.02857142857142857\n",
            "Out-of-sample error: 0.056\n",
            "lambda = 0.01\n",
            "In-sample error: 0.02857142857142857\n",
            "Out-of-sample error: 0.084\n"
          ]
        }
      ]
    }
  ]
}